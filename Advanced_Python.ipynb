{
  "nbformat": 4,
  "nbformat_minor": 0,
  "metadata": {
    "colab": {
      "provenance": [],
      "authorship_tag": "ABX9TyOEZ08EzopejL/A/akHnvpF",
      "include_colab_link": true
    },
    "kernelspec": {
      "name": "python3",
      "display_name": "Python 3"
    },
    "language_info": {
      "name": "python"
    }
  },
  "cells": [
    {
      "cell_type": "markdown",
      "metadata": {
        "id": "view-in-github",
        "colab_type": "text"
      },
      "source": [
        "<a href=\"https://colab.research.google.com/github/akybharat/DL-PyTorch/blob/main/Advanced_Python.ipynb\" target=\"_parent\"><img src=\"https://colab.research.google.com/assets/colab-badge.svg\" alt=\"Open In Colab\"/></a>"
      ]
    },
    {
      "cell_type": "markdown",
      "source": [
        "## Classes"
      ],
      "metadata": {
        "id": "173b8gPz4I3I"
      }
    },
    {
      "cell_type": "markdown",
      "source": [
        "#### Abstract Class\n",
        "\n",
        "Prevents a user from creating an object of that class\n",
        "+ compels a user to override abstract methods in a child class\n",
        "\n",
        "abstract class = a class which contains one or more abstract methods.\n",
        "abstract method = a method that has a declaration but does not have an implementation."
      ],
      "metadata": {
        "id": "-jypX15p5Byv"
      }
    },
    {
      "cell_type": "code",
      "source": [
        "from abc import ABC, abstractmethod\n",
        "class Vehicle(ABC):\n",
        "    @abstractmethod\n",
        "    def go(self):\n",
        "      pass\n",
        "\n",
        "class Car(Vehicle):\n",
        "    def go(self):\n",
        "      print(\"Drive Car\")\n",
        "\n",
        "class Motorcycle(Vehicle):\n",
        "    def go(self):\n",
        "      print(\"Ride Motorcycle\")\n",
        ""
      ],
      "metadata": {
        "id": "MTC6xLsW4MIG"
      },
      "execution_count": 1,
      "outputs": []
    },
    {
      "cell_type": "markdown",
      "source": [
        "Trapping rainwater problem: Find the maximum amount of water that can be trapped within a given set of bars where each bar’s width is 1 unit.\n",
        "\n",
        "For example,\n",
        "\n",
        "\n",
        "Input: An array containing height of bars {7, 0, 4, 2, 5, 0, 6, 4, 0, 5}"
      ],
      "metadata": {
        "id": "cstnJCxgl3Am"
      }
    },
    {
      "cell_type": "code",
      "source": [
        "arr=[7, 0, 4, 2, 5, 0, 6, 4, 0, 5]\n"
      ],
      "metadata": {
        "id": "sdZq_P4c5x6_"
      },
      "execution_count": 1,
      "outputs": []
    },
    {
      "cell_type": "code",
      "source": [
        "max_left=[]\n",
        "curr=0\n",
        "for i in arr:\n",
        "  max_left.append(curr)\n",
        "  if i>curr:\n",
        "    curr=i\n",
        ""
      ],
      "metadata": {
        "id": "y4DCv28gmSGr"
      },
      "execution_count": 19,
      "outputs": []
    },
    {
      "cell_type": "code",
      "source": [
        "max_left"
      ],
      "metadata": {
        "colab": {
          "base_uri": "https://localhost:8080/"
        },
        "id": "6x40W3S0mn1F",
        "outputId": "532699f6-f95c-4095-aecd-e5c529fac8b2"
      },
      "execution_count": 20,
      "outputs": [
        {
          "output_type": "execute_result",
          "data": {
            "text/plain": [
              "[0, 7, 7, 7, 7, 7, 7, 7, 7, 7]"
            ]
          },
          "metadata": {},
          "execution_count": 20
        }
      ]
    },
    {
      "cell_type": "code",
      "source": [
        "max_right=[]\n",
        "curr=0\n",
        "reversed_arr=arr[::-1]\n",
        "for i in reversed_arr:\n",
        "  max_right.append(curr)\n",
        "  if i>curr:\n",
        "    curr=i\n",
        "\n",
        "max_right=max_right[::-1]"
      ],
      "metadata": {
        "id": "xclSMypbmo87"
      },
      "execution_count": 21,
      "outputs": []
    },
    {
      "cell_type": "code",
      "source": [
        "max_right"
      ],
      "metadata": {
        "colab": {
          "base_uri": "https://localhost:8080/"
        },
        "id": "FjRUlLudnEm_",
        "outputId": "a20924e3-5ff3-4ce7-a289-4c3ffeef3812"
      },
      "execution_count": 22,
      "outputs": [
        {
          "output_type": "execute_result",
          "data": {
            "text/plain": [
              "[6, 6, 6, 6, 6, 6, 5, 5, 5, 0]"
            ]
          },
          "metadata": {},
          "execution_count": 22
        }
      ]
    },
    {
      "cell_type": "code",
      "source": [
        "total_water=0\n",
        "for i in range(len(arr)):\n",
        "  curr_min=min(max_left[i],max_right[i])\n",
        "  curr=curr_min-arr[i]\n",
        "  if curr>0:\n",
        "    total_water+=curr\n",
        "print(total_water)"
      ],
      "metadata": {
        "colab": {
          "base_uri": "https://localhost:8080/"
        },
        "id": "YbzOjt7CnLq0",
        "outputId": "c93ecf75-ef33-4966-8ad5-0239aef80dd9"
      },
      "execution_count": 25,
      "outputs": [
        {
          "output_type": "stream",
          "name": "stdout",
          "text": [
            "25\n"
          ]
        }
      ]
    },
    {
      "cell_type": "code",
      "source": [
        "max_left"
      ],
      "metadata": {
        "colab": {
          "base_uri": "https://localhost:8080/"
        },
        "id": "oBUm0-vBn8qn",
        "outputId": "6c3e68f1-6ae5-449c-b465-645177e3cc50"
      },
      "execution_count": 23,
      "outputs": [
        {
          "output_type": "execute_result",
          "data": {
            "text/plain": [
              "[0, 7, 7, 7, 7, 7, 7, 7, 7, 7]"
            ]
          },
          "metadata": {},
          "execution_count": 23
        }
      ]
    },
    {
      "cell_type": "code",
      "source": [
        "max_right"
      ],
      "metadata": {
        "colab": {
          "base_uri": "https://localhost:8080/"
        },
        "id": "4olqun1AoLeP",
        "outputId": "81e332e0-ea58-44e7-92fe-27e5b2435336"
      },
      "execution_count": 24,
      "outputs": [
        {
          "output_type": "execute_result",
          "data": {
            "text/plain": [
              "[6, 6, 6, 6, 6, 6, 5, 5, 5, 0]"
            ]
          },
          "metadata": {},
          "execution_count": 24
        }
      ]
    },
    {
      "cell_type": "code",
      "source": [
        "arr"
      ],
      "metadata": {
        "colab": {
          "base_uri": "https://localhost:8080/"
        },
        "id": "U8TWJQZ3oYhq",
        "outputId": "8da58cb7-ad6f-4a51-dee4-07c0e874c5e4"
      },
      "execution_count": 18,
      "outputs": [
        {
          "output_type": "execute_result",
          "data": {
            "text/plain": [
              "[7, 0, 4, 2, 5, 0, 6, 4, 0, 5]"
            ]
          },
          "metadata": {},
          "execution_count": 18
        }
      ]
    },
    {
      "cell_type": "code",
      "source": [
        "6+2+4+1+6+1+5"
      ],
      "metadata": {
        "colab": {
          "base_uri": "https://localhost:8080/"
        },
        "id": "jI7oWF_QpJs1",
        "outputId": "829fa2fe-5edb-40fb-d491-e06e7753ab76"
      },
      "execution_count": 26,
      "outputs": [
        {
          "output_type": "execute_result",
          "data": {
            "text/plain": [
              "25"
            ]
          },
          "metadata": {},
          "execution_count": 26
        }
      ]
    },
    {
      "cell_type": "code",
      "source": [],
      "metadata": {
        "id": "5OCdW6l-wX3n"
      },
      "execution_count": null,
      "outputs": []
    }
  ]
}