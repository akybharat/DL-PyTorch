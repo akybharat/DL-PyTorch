{
  "nbformat": 4,
  "nbformat_minor": 0,
  "metadata": {
    "colab": {
      "provenance": [],
      "authorship_tag": "ABX9TyMmCqt0X8YBmrE66uomTwW0",
      "include_colab_link": true
    },
    "kernelspec": {
      "name": "python3",
      "display_name": "Python 3"
    },
    "language_info": {
      "name": "python"
    }
  },
  "cells": [
    {
      "cell_type": "markdown",
      "metadata": {
        "id": "view-in-github",
        "colab_type": "text"
      },
      "source": [
        "<a href=\"https://colab.research.google.com/github/akybharat/DL-PyTorch/blob/main/1_PyTorchOfficial.ipynb\" target=\"_parent\"><img src=\"https://colab.research.google.com/assets/colab-badge.svg\" alt=\"Open In Colab\"/></a>"
      ]
    },
    {
      "cell_type": "code",
      "execution_count": null,
      "metadata": {
        "id": "Y3f93SZD1tpY"
      },
      "outputs": [],
      "source": [
        "import torch\n",
        "import numpy as np"
      ]
    },
    {
      "cell_type": "markdown",
      "source": [
        "### Tesor Basic Operations"
      ],
      "metadata": {
        "id": "Go_NwZa75_Su"
      }
    },
    {
      "cell_type": "code",
      "source": [
        "data=[[1,2],[3,4]]\n",
        "x_data=torch.tensor(data)"
      ],
      "metadata": {
        "id": "fJ7DNkEY19Ch"
      },
      "execution_count": null,
      "outputs": []
    },
    {
      "cell_type": "code",
      "source": [
        "tensor=torch.rand(3,4)\n",
        "print(tensor.shape)\n",
        "print(tensor.dtype)\n",
        "print(tensor.device)"
      ],
      "metadata": {
        "colab": {
          "base_uri": "https://localhost:8080/"
        },
        "id": "cCE7VYpL2Kai",
        "outputId": "8d6071c3-ef4d-4e87-d14b-e8ad246bd1fc"
      },
      "execution_count": null,
      "outputs": [
        {
          "output_type": "stream",
          "name": "stdout",
          "text": [
            "torch.Size([3, 4])\n",
            "torch.float32\n",
            "cpu\n"
          ]
        }
      ]
    },
    {
      "cell_type": "code",
      "source": [
        "if torch.cuda.is_available():\n",
        "    tensor=tensor.to('cuda')\n",
        "    print(tensor.device)"
      ],
      "metadata": {
        "id": "QvrSTPbW2pX0"
      },
      "execution_count": null,
      "outputs": []
    },
    {
      "cell_type": "code",
      "source": [
        "tensor=torch.ones(4,4)\n",
        "tensor[:,1]=0\n",
        "print(tensor)"
      ],
      "metadata": {
        "colab": {
          "base_uri": "https://localhost:8080/"
        },
        "id": "LN-8bbXk2xYE",
        "outputId": "4abc3277-f6a0-4aa0-e705-1dfeb5e2b0d2"
      },
      "execution_count": null,
      "outputs": [
        {
          "output_type": "stream",
          "name": "stdout",
          "text": [
            "tensor([[1., 0., 1., 1.],\n",
            "        [1., 0., 1., 1.],\n",
            "        [1., 0., 1., 1.],\n",
            "        [1., 0., 1., 1.]])\n"
          ]
        }
      ]
    },
    {
      "cell_type": "code",
      "source": [
        "tensor.T"
      ],
      "metadata": {
        "colab": {
          "base_uri": "https://localhost:8080/"
        },
        "id": "G8ntDGWW44WW",
        "outputId": "f6c02983-5dc4-4b42-e88d-5eb538ac6f8c"
      },
      "execution_count": null,
      "outputs": [
        {
          "output_type": "execute_result",
          "data": {
            "text/plain": [
              "tensor([[1., 1., 1., 1.],\n",
              "        [0., 0., 0., 0.],\n",
              "        [1., 1., 1., 1.],\n",
              "        [1., 1., 1., 1.]])"
            ]
          },
          "metadata": {},
          "execution_count": 11
        }
      ]
    },
    {
      "cell_type": "code",
      "source": [
        "tensor @tensor.T"
      ],
      "metadata": {
        "colab": {
          "base_uri": "https://localhost:8080/"
        },
        "id": "HlzXAceZ4fFR",
        "outputId": "5442c450-5ca9-4b68-8fab-847e43021d51"
      },
      "execution_count": null,
      "outputs": [
        {
          "output_type": "execute_result",
          "data": {
            "text/plain": [
              "tensor([[3., 3., 3., 3.],\n",
              "        [3., 3., 3., 3.],\n",
              "        [3., 3., 3., 3.],\n",
              "        [3., 3., 3., 3.]])"
            ]
          },
          "metadata": {},
          "execution_count": 10
        }
      ]
    },
    {
      "cell_type": "markdown",
      "source": [
        "###  INTRODUCTION TO TORCH.AUTOGRAD\n",
        "\n",
        "torch.autograd is PyTorch differentiation engine."
      ],
      "metadata": {
        "id": "KF9fM8186G54"
      }
    },
    {
      "cell_type": "code",
      "source": [
        "import torch\n",
        "from torchvision.models import resnet18, ResNet18_Weights\n",
        "model=resnet18(weights=ResNet18_Weights.DEFAULT)\n",
        "\n",
        "data=torch.rand(1, 3, 64, 64)\n",
        "labels=torch.rand(1, 1000)\n",
        "\n",
        "prediction=model(data)\n"
      ],
      "metadata": {
        "colab": {
          "base_uri": "https://localhost:8080/"
        },
        "id": "7EKlwSAh4xRX",
        "outputId": "0eca74e6-290d-4a4b-971c-210a65e77aa6"
      },
      "execution_count": null,
      "outputs": [
        {
          "output_type": "stream",
          "name": "stderr",
          "text": [
            "Downloading: \"https://download.pytorch.org/models/resnet18-f37072fd.pth\" to /root/.cache/torch/hub/checkpoints/resnet18-f37072fd.pth\n",
            "100%|██████████| 44.7M/44.7M [00:00<00:00, 108MB/s]\n"
          ]
        }
      ]
    },
    {
      "cell_type": "code",
      "source": [
        "loss=(prediction-labels).sum()\n",
        "\n",
        "loss.backward()"
      ],
      "metadata": {
        "id": "-46vSJyV9q9y"
      },
      "execution_count": null,
      "outputs": []
    },
    {
      "cell_type": "code",
      "source": [
        "optim=torch.optim.SGD(model.parameters(), lr=1e-2, momentum=0.9)\n",
        "\n",
        "optim.step()"
      ],
      "metadata": {
        "id": "ZeaL4-xZ9twy"
      },
      "execution_count": null,
      "outputs": []
    },
    {
      "cell_type": "markdown",
      "source": [
        "Freezing part of NN"
      ],
      "metadata": {
        "id": "QHyqxGfm_xk5"
      }
    },
    {
      "cell_type": "code",
      "source": [
        "from torch import nn, optim\n",
        "model=resnet18(weights=ResNet18_Weights.DEFAULT)\n",
        "\n",
        "for param in model.parameters():\n",
        "    param.requires_grad=True\n",
        "\n",
        "model.fc=nn.Linear(512, 10)\n",
        "optimizer=optim.SGD(model.parameters(), lr=1e-2, momentum=0.9)"
      ],
      "metadata": {
        "id": "eiOQwotz_n2c"
      },
      "execution_count": null,
      "outputs": []
    },
    {
      "cell_type": "markdown",
      "source": [
        "#### Building NN"
      ],
      "metadata": {
        "id": "R2qHiBAoE0SS"
      }
    },
    {
      "cell_type": "code",
      "source": [
        "import torch\n",
        "import torch.nn as nn\n",
        "import torch.nn.functional as F"
      ],
      "metadata": {
        "id": "BF_uCPwuE3wC"
      },
      "execution_count": null,
      "outputs": []
    },
    {
      "cell_type": "code",
      "source": [
        "class Net(nn.Module):\n",
        "  def __init__(self):\n",
        "    super(Net, self).__init__():\n",
        "    self.conv1=nn.Conv2d(1, 6, 5)\n",
        "    self.conv2=nn.Conv2d(6, 16, 5)\n",
        "    self.fc1=nn.Linear(16*5*5, 120)\n",
        "    self.fc2=nn.Linear(120, 84)\n",
        "    self.fc3=nn.Linear(84, 10)\n",
        "\n",
        "  def forward(self, x):\n",
        "    x=F.max_pool2d(F.relu(self.conv1(x)), (2,2))\n",
        "    x=F.max_pool2d(F.relu(self.conv1(x)), 2)\n",
        "    x=torch.flatten(x, 1)\n",
        "    x=F.relu(self.fc1(x))\n",
        "    x=F.relu(self.fc2(x))\n",
        "    x=self.fc3(x)\n",
        "    return x\n",
        "\n"
      ],
      "metadata": {
        "id": "ysFWCGugFFgn"
      },
      "execution_count": null,
      "outputs": []
    },
    {
      "cell_type": "code",
      "source": [
        "criterion = nn.MSELoss()\n",
        "net=Net()\n",
        "\n",
        "target = torch.randn(10)  # a dummy target, for example\n",
        "target = target.view(1, -1)  # make it the same shape as output\n",
        "input1 = torch.randn(1, 1, 32, 32)\n",
        "\n",
        "import torch.optim as optim\n",
        "\n",
        "# create your optimizer\n",
        "optimizer = optim.SGD(net.parameters(), lr=0.01)\n",
        "\n",
        "# in your training loop:\n",
        "optimizer.zero_grad()   # zero the gradient buffers\n",
        "output = net(input1)\n",
        "loss = criterion(output, target)\n",
        "loss.backward()\n",
        "optimizer.step()    # Does the update"
      ],
      "metadata": {
        "id": "HZi8gLuM41Q5"
      },
      "execution_count": null,
      "outputs": []
    },
    {
      "cell_type": "markdown",
      "source": [
        "### Training a Classifier"
      ],
      "metadata": {
        "id": "K6vy1r27JxTT"
      }
    },
    {
      "cell_type": "code",
      "source": [],
      "metadata": {
        "id": "PRep66GAJ2AU"
      },
      "execution_count": null,
      "outputs": []
    }
  ]
}